{
 "cells": [
  {
   "cell_type": "markdown",
   "metadata": {},
   "source": [
    "## Tenta #1"
   ]
  },
  {
   "cell_type": "code",
   "execution_count": null,
   "metadata": {},
   "outputs": [],
   "source": [
    "frukter = [\"jordgubbe\", \"vindruva\", \"grape\"] #skapar listan \"frukter\" med tre string element\n",
    "godfrukt = frukter[2] #skapar en variabel \"godfrukt\" som hänvisar till sista elementet i listan, index 2\n",
    "print(godfrukt[-1]) #printar ut sista objektet i godfrukt, eller det enda elemntet eftersom variabeln endast innehåller 1 element\n"
   ]
  },
  {
   "cell_type": "code",
   "execution_count": null,
   "metadata": {},
   "outputs": [],
   "source": [
    "def volym_cylinder(radius, height):\n",
    "    volume = 3.1415 * radius**2 * height #felhatering????????\n",
    "\n",
    "    return volume\n"
   ]
  },
  {
   "cell_type": "code",
   "execution_count": 2,
   "metadata": {},
   "outputs": [
    {
     "name": "stdout",
     "output_type": "stream",
     "text": [
      "[166392, 166561, 166282, 167243, 166503, 167019]\n"
     ]
    }
   ],
   "source": [
    "import random\n",
    "\n",
    "results = [0,0,0,0,0,0]\n",
    "\n",
    "for i in range(1000000):\n",
    "    dice_throw = random.randint(1,6)\n",
    "\n",
    "    if dice_throw == 1:\n",
    "        results[0] += 1\n",
    "\n",
    "    elif dice_throw == 2:\n",
    "        results[1] += 1\n",
    "\n",
    "    elif dice_throw == 3:\n",
    "        results[2] += 1\n",
    "    \n",
    "    elif dice_throw == 4:\n",
    "        results[3] += 1\n",
    "\n",
    "    elif dice_throw == 5:\n",
    "        results[4] += 1\n",
    "\n",
    "    elif dice_throw == 6:\n",
    "        results[5] += 1\n",
    "\n",
    "print(results)\n"
   ]
  },
  {
   "cell_type": "code",
   "execution_count": 22,
   "metadata": {},
   "outputs": [
    {
     "name": "stdout",
     "output_type": "stream",
     "text": [
      "X X X X X \n",
      "x o x o x \n",
      "X X X X X \n",
      "x o x o x \n",
      "X X X X X \n"
     ]
    }
   ],
   "source": [
    "\n",
    "def fun(n):\n",
    "    for nn in range(n):\n",
    "        for nnn in range(n):\n",
    "            if nn % 2 == 0:\n",
    "                print(\"X \", end=\"\")\n",
    "            else:\n",
    "                if nnn % 2 == 0:\n",
    "                    print(\"x \", end=\"\")\n",
    "                else:\n",
    "                    print(\"o \", end=\"\")\n",
    "\n",
    "        print(\"\")\n",
    "        \n",
    "\n",
    "fun(5)"
   ]
  },
  {
   "cell_type": "code",
   "execution_count": 54,
   "metadata": {},
   "outputs": [
    {
     "name": "stdout",
     "output_type": "stream",
     "text": [
      "tusenlappars: 3\n",
      "tvåhundralappar: 1\n",
      "tiokronor: 1\n",
      "enkronor: 9\n"
     ]
    }
   ],
   "source": [
    "def cash(amount):\n",
    "\n",
    "    thousand = amount // 1000\n",
    "    two_hundreds = (amount - thousand*1000) // 200\n",
    "    tens = (amount - thousand*1000 - two_hundreds*200) // 10\n",
    "    ones = (amount - thousand*1000 - two_hundreds*200 - tens*10) // 1\n",
    "\n",
    "    print(f\"tusenlappars: {thousand}\")\n",
    "    print(f\"tvåhundralappar: {two_hundreds}\")\n",
    "    print(f\"tiokronor: {tens}\")\n",
    "    print(f\"enkronor: {ones}\")\n",
    "\n",
    "cash(3219)"
   ]
  },
  {
   "cell_type": "code",
   "execution_count": 72,
   "metadata": {},
   "outputs": [
    {
     "name": "stdout",
     "output_type": "stream",
     "text": [
      "Ada owns:\n",
      "[Dog: Snoopy, Dog: Pluto]\n",
      "[Fish: Fishy, Fish: Buppy] \n",
      "Beda owns:\n",
      "[Dog: Barkly]\n",
      " \n"
     ]
    }
   ],
   "source": [
    "class Animal:\n",
    "    def __init__(self, name):\n",
    "        self.name = name\n",
    "    \n",
    "    def __str__(self):\n",
    "        return f\"Animal: {self.name}\"\n",
    "\n",
    "class Dog(Animal):\n",
    "\n",
    "    def __repr__(self):\n",
    "        return f\"Dog: {self.name}\"\n",
    "\n",
    "\n",
    "class Fish(Animal):\n",
    "\n",
    "    def __repr__(self):\n",
    "        return f\"Fish: {self.name}\"\n",
    "\n",
    "\n",
    "class Pet_owner:\n",
    "    def __init__(self, name:str, dogs:list, fishes:list = None):\n",
    "        self.name = name\n",
    "        self.dogs = [Dog(f\"{dog}\") for dog in dogs]\n",
    "        self.fishes = \"\" if not fishes else [Fish(f\"{fish}\") for fish in fishes]\n",
    "\n",
    "    def __repr__(self):\n",
    "        return f\"\"\"{self.name} owns:\n",
    "{self.dogs}\n",
    "{self.fishes} \"\"\"\n",
    "\n",
    "\n",
    "\n",
    "owner1 = Pet_owner(\"Ada\",[\"Snoopy\", \"Pluto\"], [\"Fishy\", \"Buppy\"])\n",
    "owner2 = Pet_owner(\"Beda\", [\"Barkly\"] )\n",
    "print(owner1)\n",
    "print(owner2)    \n",
    "\n",
    "\n",
    "\n"
   ]
  },
  {
   "cell_type": "code",
   "execution_count": 1,
   "metadata": {},
   "outputs": [
    {
     "data": {
      "text/plain": [
       "False"
      ]
     },
     "execution_count": 1,
     "metadata": {},
     "output_type": "execute_result"
    }
   ],
   "source": []
  },
  {
   "cell_type": "markdown",
   "metadata": {},
   "source": [
    "## Tenta #2"
   ]
  },
  {
   "cell_type": "code",
   "execution_count": 1,
   "metadata": {},
   "outputs": [
    {
     "name": "stdout",
     "output_type": "stream",
     "text": [
      "a\n"
     ]
    }
   ],
   "source": [
    "maträtter = [\"lasagne\", \"sushi\", \"hamburgare\"] #Skapar listan \"maträtter\", med 3 sträng element i\n",
    "favoritmat = maträtter[0] # sparar första elementet \"lasagne\" i variabeln \"favoritmat\"\n",
    "print(favoritmat[3]) #printar ut 4:e bokstaven i strängen \"lasagne\", alltså ett \"a\"\n"
   ]
  },
  {
   "cell_type": "code",
   "execution_count": 2,
   "metadata": {},
   "outputs": [
    {
     "data": {
      "text/plain": [
       "2.0"
      ]
     },
     "execution_count": 2,
     "metadata": {},
     "output_type": "execute_result"
    }
   ],
   "source": [
    "# definierar en funktion med namn \"area\" och två parametrar, bas & höjd\n",
    "#skapar felhantering\n",
    "# skapar variabeln area som sparar resultatet av formeln bas*höjd / 2\n",
    "# returnerar area\n",
    "\n",
    "def area(bas, höjd):\n",
    "\n",
    "    area = (bas*höjd) / 2\n",
    "\n",
    "    return area\n",
    "\n",
    "area(2, 2)"
   ]
  },
  {
   "cell_type": "code",
   "execution_count": 11,
   "metadata": {},
   "outputs": [
    {
     "name": "stdout",
     "output_type": "stream",
     "text": [
      "{'soligt': 66, 'molnigt': 75, 'regnint': 74, 'snöigt': 72, 'stormigt': 78}\n"
     ]
    }
   ],
   "source": [
    "#importera random\n",
    "#skapa en lista med varje väderförhållande: \"soligt\", \"molnigt\", \"regnint\", \"snöigt\" och \"stormigt\"\n",
    "#skapa eb dictionary där keys ska vara väderförhållanden och values ska vara 0\n",
    "#skapa en loop med range 365, varje iteration slumpar ett väderförhållande med random.choice\n",
    "#söka upp index i listan där dictionary values är samma som framslumpade, +1 på value\n",
    "\n",
    "#printa varje dictionary\n",
    "\n",
    "import random\n",
    "\n",
    "weather = [\"soligt\", \"molnigt\", \"regnint\", \"snöigt\", \"stormigt\"]\n",
    "days = {\"soligt\": 0, \"molnigt\": 0, \"regnint\": 0, \"snöigt\": 0, \"stormigt\": 0}\n",
    "\n",
    "for day in range(365):\n",
    "    day_weather = random.choice(weather)\n",
    "    days[day_weather] += 1\n",
    "\n",
    "print(days)\n"
   ]
  },
  {
   "cell_type": "code",
   "execution_count": 17,
   "metadata": {},
   "outputs": [
    {
     "name": "stdout",
     "output_type": "stream",
     "text": [
      "x o o o o \n",
      "o x o o o \n",
      "o o x o o \n",
      "o o o x o \n",
      "o o o o x \n"
     ]
    }
   ],
   "source": [
    "# definiera funktion med en parameter N\n",
    "# en for loop med range 3 och variabel n\n",
    "# en till for loop med range N och variabel nn\n",
    "# lägg till if-sats med vilkor om n == n\n",
    "# printa x, annars printa o, lägg till end=\"\"\n",
    "\n",
    "def fun(N):\n",
    "    for n in range(N):\n",
    "        for nn in range(N):\n",
    "            if n == nn:\n",
    "                print(\"x \", end=\"\")\n",
    "            else:\n",
    "                print(\"o \", end=\"\")\n",
    "        \n",
    "        print(\"\")\n",
    "\n",
    "fun(5)"
   ]
  },
  {
   "cell_type": "code",
   "execution_count": null,
   "metadata": {},
   "outputs": [],
   "source": []
  },
  {
   "cell_type": "code",
   "execution_count": 2,
   "metadata": {},
   "outputs": [
    {
     "name": "stdout",
     "output_type": "stream",
     "text": [
      "233168\n"
     ]
    }
   ],
   "source": [
    "numbers = 0\n",
    "\n",
    "for number in range(1,1000):\n",
    "    if number % 3 == 0 or number % 5 == 0:\n",
    "        numbers += number\n",
    "\n",
    "print(numbers)"
   ]
  },
  {
   "cell_type": "code",
   "execution_count": 27,
   "metadata": {},
   "outputs": [
    {
     "name": "stdout",
     "output_type": "stream",
     "text": [
      "[1, 2, 3, 5, 8, 13, 21, 34, 55, 89, 144, 233, 377, 610, 987, 1597, 2584, 4181, 6765, 10946, 17711, 28657, 46368, 75025, 121393, 196418, 317811, 514229, 832040, 1346269, 2178309, 3524578]\n",
      "4613732\n"
     ]
    }
   ],
   "source": [
    "fibonacci = [1,2]\n",
    "\n",
    "\n",
    "for number in range(100):\n",
    "\n",
    "    new_fibonacci = fibonacci[-1] + fibonacci[-2]\n",
    "    if new_fibonacci < 4000000:\n",
    "        fibonacci.append(new_fibonacci)\n",
    "\n",
    "\n",
    "print(fibonacci)\n",
    "\n",
    "sum_ = 0\n",
    "\n",
    "for n in fibonacci:\n",
    "    if n % 2 == 0:\n",
    "        sum_ +=n\n",
    "\n",
    "print(sum_)"
   ]
  },
  {
   "cell_type": "code",
   "execution_count": 12,
   "metadata": {},
   "outputs": [
    {
     "name": "stdout",
     "output_type": "stream",
     "text": [
      "6597\n",
      "6597\n",
      "6597\n",
      "6597\n",
      "6597\n",
      "6597\n",
      "6597\n",
      "6597\n",
      "6597\n",
      "6597\n",
      "6597\n",
      "6597\n",
      "6597\n",
      "6597\n",
      "6597\n",
      "6597\n",
      "6597\n",
      "6597\n",
      "6597\n",
      "6597\n",
      "6597\n",
      "6597\n",
      "6597\n",
      "6597\n",
      "6597\n",
      "6597\n",
      "6597\n",
      "6597\n",
      "6597\n",
      "6597\n"
     ]
    }
   ],
   "source": [
    "\n",
    "n = 13195\n",
    "\n",
    "counter = 2\n",
    "\n",
    "for i in range(30):\n",
    "    kvot = 3\n",
    "    if isinstance(kvot, int):\n",
    "        print(kvot)\n",
    "\n",
    "    else:\n",
    "        counter += 1\n",
    "    \n",
    "\n"
   ]
  },
  {
   "cell_type": "code",
   "execution_count": 7,
   "metadata": {},
   "outputs": [
    {
     "data": {
      "text/plain": [
       "3.141592653589793"
      ]
     },
     "execution_count": 7,
     "metadata": {},
     "output_type": "execute_result"
    }
   ],
   "source": [
    "class A:\n",
    "    def __init__(self, x, y):\n",
    "        import math\n",
    "        self.x = x\n",
    "        self.y = y\n",
    "        self.pi = math.pi\n",
    "\n",
    "\n",
    "class B(A):\n",
    "    def __init__(self, x, y):\n",
    "        super().__init__(x, y)\n",
    "\n",
    "    \n",
    "\n",
    "a = A(1,2)\n",
    "\n",
    "b = B(10,22)\n",
    "\n",
    "b.pi\n",
    "        "
   ]
  }
 ],
 "metadata": {
  "kernelspec": {
   "display_name": "Python 3",
   "language": "python",
   "name": "python3"
  },
  "language_info": {
   "codemirror_mode": {
    "name": "ipython",
    "version": 3
   },
   "file_extension": ".py",
   "mimetype": "text/x-python",
   "name": "python",
   "nbconvert_exporter": "python",
   "pygments_lexer": "ipython3",
   "version": "3.11.6"
  }
 },
 "nbformat": 4,
 "nbformat_minor": 2
}
