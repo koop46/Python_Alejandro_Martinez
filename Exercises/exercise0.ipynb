{
 "cells": [
  {
   "cell_type": "code",
   "execution_count": 36,
   "metadata": {},
   "outputs": [
    {
     "name": "stdout",
     "output_type": "stream",
     "text": [
      "Hypothenuse is 5.0\n",
      "Cathetus is 4.9\n"
     ]
    }
   ],
   "source": [
    "#1. Pythagorean theorem (*)\n",
    "from math import sqrt\n",
    "\n",
    "\n",
    "#A)\n",
    "a = 3\n",
    "b = 4\n",
    "\n",
    "c = sqrt(a**2 + b**2)\n",
    "\n",
    "print (f'Hypothenuse is {c}')\n",
    "\n",
    "#B)\n",
    "\n",
    "a = 5\n",
    "c = 7\n",
    "\n",
    "b = sqrt(c**2 - a**2)\n",
    "b = round(b, 1)\n",
    "\n",
    "\n",
    "print (f'Cathetus is {b}')\n"
   ]
  },
  {
   "cell_type": "code",
   "execution_count": 37,
   "metadata": {},
   "outputs": [
    {
     "name": "stdout",
     "output_type": "stream",
     "text": [
      "Accuracy is 0.821917808219178, 82.19% accuracy\n"
     ]
    }
   ],
   "source": [
    "#2 Classification 1\n",
    "\n",
    "pred = 365\n",
    "corr = 300\n",
    "\n",
    "accu = corr/pred\n",
    "\n",
    "print(f'Accuracy is {accu}, 82.19% accuracy')\n",
    "\n"
   ]
  },
  {
   "cell_type": "code",
   "execution_count": 15,
   "metadata": {},
   "outputs": [
    {
     "name": "stdout",
     "output_type": "stream",
     "text": [
      "Accuracy is: 0.987, or 98.7%\n"
     ]
    }
   ],
   "source": [
    "#3 Classification 2\n",
    "\n",
    "TP = 2\n",
    "FP = 2\n",
    "FN = 11\n",
    "TN = 985\n",
    "\n",
    "accuracy = (TP + TN) / (TP + TN + FP + FN)\n",
    "\n",
    "print(f'Accuracy is: {accuracy}, or 98.7%')\n",
    "\n",
    "\n"
   ]
  },
  {
   "cell_type": "code",
   "execution_count": 41,
   "metadata": {},
   "outputs": [
    {
     "name": "stdout",
     "output_type": "stream",
     "text": [
      "Equation is y=0.75x+1\n"
     ]
    }
   ],
   "source": [
    "#4 Line\n",
    "\n",
    "a = [4,4]\n",
    "b = [0,1]\n",
    "\n",
    "k = (a[1]-b[1]) / (a[0]-b[0])\n",
    "\n",
    "print(f'Equation is y={k}x+1')"
   ]
  },
  {
   "cell_type": "code",
   "execution_count": 43,
   "metadata": {},
   "outputs": [
    {
     "name": "stdout",
     "output_type": "stream",
     "text": [
      "Distance is 5.1\n"
     ]
    }
   ],
   "source": [
    "#5\n",
    "p1 = [3,5]\n",
    "p2 = [-2,4]\n",
    "\n",
    "d = sqrt( (p2[0]-p1[0])**2 + (p2[1]-p1[1])**2 )\n",
    "d = round(d, 1)\n",
    "\n",
    "\n",
    "print(f'Distance is {d}')\n"
   ]
  },
  {
   "cell_type": "code",
   "execution_count": 32,
   "metadata": {},
   "outputs": [
    {
     "name": "stdout",
     "output_type": "stream",
     "text": [
      "Distance is 4.12\n"
     ]
    }
   ],
   "source": [
    "#6\n",
    "p1 = [2,1,4]\n",
    "p2 = [3,1,0]\n",
    "\n",
    "d = sqrt( (p2[0]-p1[0])**2 + (p2[1]-p1[1])**2 + (p2[2]-p1[2])**2 )\n",
    "d = round(d, 2)\n",
    "\n",
    "\n",
    "print(f'Distance is {d}')\n"
   ]
  },
  {
   "cell_type": "code",
   "execution_count": 7,
   "metadata": {},
   "outputs": [
    {
     "name": "stdout",
     "output_type": "stream",
     "text": [
      "ale\n",
      "mar\n",
      "vill\n",
      "hey\n",
      "\n"
     ]
    }
   ],
   "source": [
    "while True:\n",
    "    file = open(\"hj.txt\", \"a\")\n",
    "    namn = input(\"namn\")\n",
    "    \n",
    "    if not namn:\n",
    "        file.close()\n",
    "        break\n",
    "           \n",
    "    file.write(namn + '\\n')\n",
    "    file.close()\n",
    "\n",
    "\n",
    "with open(\"hj.txt\", \"r\") as file:\n",
    "    content = file.read()\n",
    "    print(content)\n",
    "\n",
    "\n",
    "\n"
   ]
  },
  {
   "cell_type": "code",
   "execution_count": null,
   "metadata": {},
   "outputs": [],
   "source": []
  }
 ],
 "metadata": {
  "kernelspec": {
   "display_name": "Python_Alejandro_Martinez-YSsPG-wX",
   "language": "python",
   "name": "python3"
  },
  "language_info": {
   "codemirror_mode": {
    "name": "ipython",
    "version": 3
   },
   "file_extension": ".py",
   "mimetype": "text/x-python",
   "name": "python",
   "nbconvert_exporter": "python",
   "pygments_lexer": "ipython3",
   "version": "3.11.5"
  },
  "orig_nbformat": 4
 },
 "nbformat": 4,
 "nbformat_minor": 2
}
