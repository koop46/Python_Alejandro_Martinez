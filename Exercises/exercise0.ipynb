{
 "cells": [
  {
   "cell_type": "code",
   "execution_count": 8,
   "metadata": {},
   "outputs": [
    {
     "name": "stdout",
     "output_type": "stream",
     "text": [
      "5.0\n",
      "4.9\n"
     ]
    }
   ],
   "source": [
    "#1. Pythagorean theorem (*)\n",
    "from math import sqrt\n",
    "\n",
    "#A)\n",
    "a = 3\n",
    "b = 4\n",
    "\n",
    "c = sqrt(a**2 + b**2)\n",
    "\n",
    "print (c)\n",
    "\n",
    "#B)\n",
    "\n",
    "a = 5\n",
    "c = 7\n",
    "\n",
    "b = sqrt(c**2 - a**2)\n",
    "b = round(b, 1)\n",
    "\n",
    "print(b)"
   ]
  },
  {
   "cell_type": "code",
   "execution_count": 9,
   "metadata": {},
   "outputs": [
    {
     "name": "stdout",
     "output_type": "stream",
     "text": [
      "0.821917808219178\n"
     ]
    }
   ],
   "source": [
    "#2 Classification 1\n",
    "\n",
    "pred = 365\n",
    "corr = 300\n",
    "\n",
    "accu = corr/pred\n",
    "\n",
    "print(accu)\n",
    "\n"
   ]
  },
  {
   "cell_type": "code",
   "execution_count": 15,
   "metadata": {},
   "outputs": [
    {
     "name": "stdout",
     "output_type": "stream",
     "text": [
      "Accuracy is: 0.987, or 98.7%\n"
     ]
    }
   ],
   "source": [
    "#3 Classification 2\n",
    "\n",
    "TP = 2\n",
    "FP = 2\n",
    "FN = 11\n",
    "TN = 985\n",
    "\n",
    "accuracy = (TP + TN) / (TP + TN + FP + FN)\n",
    "\n",
    "print(f'Accuracy is: {accuracy}, or 98.7%')\n",
    "\n",
    "\n"
   ]
  },
  {
   "cell_type": "code",
   "execution_count": 12,
   "metadata": {},
   "outputs": [
    {
     "name": "stdout",
     "output_type": "stream",
     "text": [
      "Slope is 0.75\n"
     ]
    }
   ],
   "source": [
    "#4 Line\n",
    "\n",
    "a = [4,4]\n",
    "b = [0,1]\n",
    "\n",
    "k = (a[1]-b[1]) / (a[0]-b[0])\n",
    "\n",
    "print(f'Slope is {k}')"
   ]
  },
  {
   "cell_type": "code",
   "execution_count": null,
   "metadata": {},
   "outputs": [],
   "source": [
    "#5\n",
    "\n"
   ]
  },
  {
   "cell_type": "code",
   "execution_count": null,
   "metadata": {},
   "outputs": [],
   "source": [
    "#6\n",
    "\n"
   ]
  }
 ],
 "metadata": {
  "kernelspec": {
   "display_name": "Python_Alejandro_Martinez-YSsPG-wX",
   "language": "python",
   "name": "python3"
  },
  "language_info": {
   "codemirror_mode": {
    "name": "ipython",
    "version": 3
   },
   "file_extension": ".py",
   "mimetype": "text/x-python",
   "name": "python",
   "nbconvert_exporter": "python",
   "pygments_lexer": "ipython3",
   "version": "3.11.4"
  },
  "orig_nbformat": 4
 },
 "nbformat": 4,
 "nbformat_minor": 2
}
