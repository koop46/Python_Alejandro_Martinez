{
 "cells": [
  {
   "cell_type": "code",
   "execution_count": 5,
   "metadata": {},
   "outputs": [
    {
     "data": {
      "text/plain": [
       "Rectangle(x=1, y=1, side=2, side2=3, area=6, circumference=10)"
      ]
     },
     "execution_count": 5,
     "metadata": {},
     "output_type": "execute_result"
    }
   ],
   "source": [
    "from Lab_3 import *\n",
    "\n",
    "\n",
    "def main():\n",
    "    area_tests()\n",
    "    circumference_tests()\n",
    "    volume_tests()\n",
    "    operator_overloads()\n",
    "    is_inside_2d_tests()\n",
    "    is_inside_ed_tests()\n",
    "    value_error_tests()\n",
    "\n",
    "def operator_overloads():\n",
    "    pass\n",
    "\n",
    "def area_tests():\n",
    "    ...\n",
    "\n",
    "def circumference_tests():\n",
    "    ...\n",
    "\n",
    "def volume_tests():\n",
    "    ...\n",
    "\n",
    "def is_inside_2d_tests():\n",
    "    ...\n",
    "\n",
    "def is_inside_ed_tests():\n",
    "    ...\n",
    "\n",
    "def value_error_tests():\n",
    "    ...\n",
    "\n",
    "\n",
    "ci1 = Circle(x=0, y=0, radius=1)\n",
    "ci2 = Circle(x=1, y=1, radius=1)\n",
    "rec1 = Rectangle(0,0, 1,1)\n",
    "rec2 = Rectangle(x=1,y=1, side=2, side2=3)\n",
    "\n",
    "ci1\n",
    "ci2\n",
    "rec2"
   ]
  }
 ],
 "metadata": {
  "kernelspec": {
   "display_name": "Python 3",
   "language": "python",
   "name": "python3"
  },
  "language_info": {
   "codemirror_mode": {
    "name": "ipython",
    "version": 3
   },
   "file_extension": ".py",
   "mimetype": "text/x-python",
   "name": "python",
   "nbconvert_exporter": "python",
   "pygments_lexer": "ipython3",
   "version": "3.11.6"
  }
 },
 "nbformat": 4,
 "nbformat_minor": 2
}
