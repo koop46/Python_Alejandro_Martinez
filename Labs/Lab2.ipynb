{
 "cells": [
  {
   "cell_type": "markdown",
   "metadata": {},
   "source": [
    "# Pichu or Pikachu?"
   ]
  },
  {
   "cell_type": "code",
   "execution_count": 11,
   "metadata": {},
   "outputs": [],
   "source": [
    "import matplotlib.pyplot as plt\n",
    "import seaborn as sns\n",
    "import copy\n",
    "\n",
    "################################################################################################ Preprocessing\n",
    "\n",
    "\n",
    "with open(\"datapoints.txt\", \"r\") as file:\n",
    "    TRAINING_ROWS = [row.strip(\"\\n\").split(\", \") for row in file.readlines()[1:]]\n",
    "\n",
    "TRAINING_POINTS = []\n",
    "for training_row in TRAINING_ROWS:\n",
    "    formated_training_rows = [int(value) if value.isdigit() else float(value) for value in training_row ]\n",
    "    TRAINING_POINTS.append(formated_training_rows)\n",
    "\n",
    "\n",
    "TRAINING_WIDTH = [r[0] for r in TRAINING_POINTS]\n",
    "TRAINING_HEIGHT = [r[1] for r in TRAINING_POINTS]\n",
    "TRAINING_LABEL = [r[2] for r in TRAINING_POINTS]\n",
    "\n",
    "TRAINING_COLUMNS = {'Width':TRAINING_WIDTH, 'Height':TRAINING_HEIGHT, 'Label':TRAINING_LABEL}\n",
    "\n",
    "##########################################\n",
    "\n",
    "\n",
    "with open(\"testpoints.txt\", \"r\") as file:\n",
    "    TEST_ROWS = [row[4:].strip(\"\\n\").split(\", \") for row in file.readlines()[1:]]\n",
    "    \n",
    "TEST_ROWS = [i[:1] + [i[1][:-1]] for i in TEST_ROWS]\n",
    "\n",
    "TEST_WIDTH = [float(v[0]) for v in TEST_ROWS]\n",
    "TEST_HEIGHT = [float(v[1]) for v in TEST_ROWS]\n",
    "\n",
    "\n",
    "TEST_POINTS = []\n",
    "for test_row in TEST_ROWS:\n",
    "    formated_testing_rows = [ [float(value) for value in test_row ] ]\n",
    "    TEST_POINTS.append(formated_testing_rows)"
   ]
  },
  {
   "cell_type": "code",
   "execution_count": 5,
   "metadata": {},
   "outputs": [],
   "source": [
    "\n",
    "def graph(TRAINING_COLUMNS):\n",
    "\n",
    "    sns.relplot(data=TRAINING_COLUMNS, x='Width', y='Height', hue='Label', hue_order=[0,1])\n",
    "    plt.show()\n",
    "\n",
    "#https://stackoverflow.com/questions/14885895/color-a-scatter-plot-by-column-values"
   ]
  },
  {
   "cell_type": "code",
   "execution_count": 9,
   "metadata": {},
   "outputs": [],
   "source": [
    "\n",
    "def calculate_distance(TEST_WIDTH, TEST_HEIGHT, TRAINING_COLUMNS, TRAINING_POINTS):\n",
    "\n",
    "    DISTANCES = []\n",
    "    for p1, p2 in zip(TEST_WIDTH, TEST_HEIGHT):\n",
    "\n",
    "        distance_list = [ ( (p1-qx)**2  + (p2-qy)**2 )**(1/2) for qx, qy in zip(TRAINING_COLUMNS['Width'], TRAINING_COLUMNS['Height']) ]\n",
    "\n",
    "        DISTANCES.append(distance_list)\n",
    "\n",
    "\n",
    "    DISTANCES_COPY = copy.deepcopy(DISTANCES)\n",
    "    CLOSEST_NEIGHBOUR = []\n",
    "\n",
    "    for i in DISTANCES_COPY:\n",
    "        i.sort()\n",
    "        CLOSEST_NEIGHBOUR.append(i[:10])\n",
    "\n",
    "\n",
    "    NEIGHBOURS = [] #index till 10 närmsta grannarna för alla 4 testdata rader \n",
    "    for idx, l in enumerate(CLOSEST_NEIGHBOUR):\n",
    "        \n",
    "        neighbours_list = [DISTANCES[idx].index(v) for v in l ]\n",
    "        \n",
    "        NEIGHBOURS.append(neighbours_list)\n",
    "\n",
    "\n",
    "    NEIGHBOURS_IDX = []\n",
    "    for nl in NEIGHBOURS:\n",
    "        neighbours_idx_list = [TRAINING_POINTS[n] for n in nl] \n",
    "        NEIGHBOURS_IDX.append(neighbours_idx_list)\n",
    "\n",
    "\n",
    "    classifying(NEIGHBOURS_IDX, TEST_POINTS)\n"
   ]
  },
  {
   "cell_type": "code",
   "execution_count": 8,
   "metadata": {},
   "outputs": [],
   "source": [
    "def classifying(NEIGHBOURS_IDX, TEST_POINTS):\n",
    "\n",
    "    for idx, i in enumerate(NEIGHBOURS_IDX):\n",
    "        neighbour_pikachu = 0\n",
    "        for ii in i:\n",
    "            neighbour_pikachu += ii.count(1)\n",
    "\n",
    "        if neighbour_pikachu >= 5:\n",
    "            print(f\"Sample with (width, height) ({str(TEST_POINTS[idx][0])[1:-1]}) classified as Pikachu\")\n",
    "        else:\n",
    "            print(f\"Sample with (width, height) ({str(TEST_POINTS[idx][0])[1:-1]}) classified as Pichu\")\n"
   ]
  },
  {
   "cell_type": "code",
   "execution_count": 30,
   "metadata": {},
   "outputs": [],
   "source": [
    "\n",
    "def add_test_points():\n",
    "\n",
    "    width = input(\"Enter width: \")\n",
    "    height = input(\"Enter height: \")\n",
    "\n",
    "    with open(\"testpoints.txt\") as file:\n",
    "        nr_of_rows = len(file.readlines())\n",
    "\n",
    "\n",
    "    new_test_points = f\"{nr_of_rows}. ({width}, {height})\" + '\\n'\n",
    "\n",
    "    with open(\"testpoints.txt\", \"a\") as file:\n",
    "        file.write(new_test_points)\n",
    "\n"
   ]
  },
  {
   "cell_type": "code",
   "execution_count": 12,
   "metadata": {},
   "outputs": [
    {
     "name": "stdout",
     "output_type": "stream",
     "text": [
      "###Pichu or Pikachu?###\n",
      "[1] Plot datapoints\n",
      "[2] Pichu or Pickahu?\n",
      "[3] Add datapoints\n",
      "What would you like to do?\n",
      "Sample with (width, height) (25.0, 32.0) classified as Pikachu\n",
      "Sample with (width, height) (24.2, 31.5) classified as Pikachu\n",
      "Sample with (width, height) (22.0, 34.0) classified as Pikachu\n",
      "Sample with (width, height) (20.5, 34.0) classified as Pichu\n",
      "Sample with (width, height) (24.4, 37.0) classified as Pikachu\n"
     ]
    }
   ],
   "source": [
    "\n",
    "\n",
    "print(\"###Pichu or Pikachu?###\")\n",
    "print(\"[1] Plot datapoints\")\n",
    "print(\"[2] Pichu or Pickahu?\")\n",
    "print(\"[3] Add datapoints\")\n",
    "print(\"What would you like to do?\")\n",
    "\n",
    "    \n",
    "\n",
    "choice = int(input(\"Pick number from 1-3\"))\n",
    "if choice == 1:\n",
    "    graph(TRAINING_COLUMNS)\n",
    "elif choice == 2:\n",
    "    calculate_distance(TEST_WIDTH, TEST_HEIGHT, TRAINING_COLUMNS, TRAINING_POINTS)\n",
    "elif choice == 3:\n",
    "    pass\n",
    "\n",
    "    \n",
    "\n",
    "\n"
   ]
  },
  {
   "cell_type": "code",
   "execution_count": null,
   "metadata": {},
   "outputs": [],
   "source": []
  }
 ],
 "metadata": {
  "kernelspec": {
   "display_name": "Python 3",
   "language": "python",
   "name": "python3"
  },
  "language_info": {
   "codemirror_mode": {
    "name": "ipython",
    "version": 3
   },
   "file_extension": ".py",
   "mimetype": "text/x-python",
   "name": "python",
   "nbconvert_exporter": "python",
   "pygments_lexer": "ipython3",
   "version": "3.11.5"
  },
  "orig_nbformat": 4
 },
 "nbformat": 4,
 "nbformat_minor": 2
}
