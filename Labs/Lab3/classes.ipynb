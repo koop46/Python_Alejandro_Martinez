{
 "cells": [
  {
   "cell_type": "code",
   "execution_count": 13,
   "metadata": {},
   "outputs": [],
   "source": [
    "from Lab_3 import Sphere, Rectangle, Circle, Cube\n"
   ]
  },
  {
   "cell_type": "code",
   "execution_count": 14,
   "metadata": {},
   "outputs": [],
   "source": [
    "cirkel1 = Circle(x=0, y=0, radius=1)\n",
    "cirkel2 = Circle(x=1, y=1, radius=2)\n",
    "\n",
    "rektangel = Rectangle(x=0, y=0, side=1, side2=1)\n",
    "\n",
    "sphere = Sphere(x=0, y=0, z=0, radius=1)\n",
    "sphere2 = Sphere(1,3,4, radius=1)\n",
    "cube = Cube(x=0, y=0, z=0, side=1)\n"
   ]
  },
  {
   "cell_type": "code",
   "execution_count": 15,
   "metadata": {},
   "outputs": [
    {
     "name": "stdout",
     "output_type": "stream",
     "text": [
      "True\n",
      "False\n"
     ]
    }
   ],
   "source": [
    "print(cirkel1.is_inside(0.5,0.5))\n",
    "cirkel1.translate(5,5)\n",
    "print(cirkel1.is_inside(0.5,0.5))\n"
   ]
  },
  {
   "cell_type": "code",
   "execution_count": 16,
   "metadata": {},
   "outputs": [
    {
     "name": "stdout",
     "output_type": "stream",
     "text": [
      "True\n",
      "False\n"
     ]
    }
   ],
   "source": [
    "print(cube.is_inside(0.2, 0.2, 0.2))\n",
    "cube.translate(x=1, y=1, z=1)\n",
    "print(cube.is_inside(0.2, 0.2, 0.2))\n"
   ]
  },
  {
   "cell_type": "code",
   "execution_count": 17,
   "metadata": {},
   "outputs": [
    {
     "name": "stdout",
     "output_type": "stream",
     "text": [
      "True\n",
      "False\n"
     ]
    }
   ],
   "source": [
    "print(sphere.is_inside(0.2,0.2,.2))\n",
    "sphere.translate(1,1,1)\n",
    "print(sphere.is_inside(.2,.2,.2))\n",
    "\n"
   ]
  },
  {
   "cell_type": "code",
   "execution_count": 18,
   "metadata": {},
   "outputs": [
    {
     "data": {
      "text/plain": [
       "True"
      ]
     },
     "execution_count": 18,
     "metadata": {},
     "output_type": "execute_result"
    }
   ],
   "source": [
    "sphere == sphere2"
   ]
  }
 ],
 "metadata": {
  "kernelspec": {
   "display_name": "Python 3",
   "language": "python",
   "name": "python3"
  },
  "language_info": {
   "codemirror_mode": {
    "name": "ipython",
    "version": 3
   },
   "file_extension": ".py",
   "mimetype": "text/x-python",
   "name": "python",
   "nbconvert_exporter": "python",
   "pygments_lexer": "ipython3",
   "version": "3.11.6"
  }
 },
 "nbformat": 4,
 "nbformat_minor": 2
}
