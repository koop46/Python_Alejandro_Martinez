{
 "cells": [
  {
   "cell_type": "code",
   "execution_count": 3,
   "metadata": {},
   "outputs": [
    {
     "ename": "TypeError",
     "evalue": "object of type 'int' has no len()",
     "output_type": "error",
     "traceback": [
      "\u001b[1;31m---------------------------------------------------------------------------\u001b[0m",
      "\u001b[1;31mTypeError\u001b[0m                                 Traceback (most recent call last)",
      "Cell \u001b[1;32mIn[3], line 3\u001b[0m\n\u001b[0;32m      1\u001b[0m d \u001b[39m=\u001b[39m \u001b[39m100\u001b[39m\n\u001b[1;32m----> 3\u001b[0m \u001b[39mprint\u001b[39m(\u001b[39mlen\u001b[39;49m(d))\n",
      "\u001b[1;31mTypeError\u001b[0m: object of type 'int' has no len()"
     ]
    }
   ],
   "source": [
    "d = 100\n",
    "\n",
    "print(len(d))"
   ]
  },
  {
   "cell_type": "markdown",
   "metadata": {},
   "source": [
    "#testing testing"
   ]
  },
  {
   "cell_type": "code",
   "execution_count": 24,
   "metadata": {},
   "outputs": [
    {
     "name": "stdout",
     "output_type": "stream",
     "text": [
      "1 0 0\n",
      "1 1 1\n",
      "1 2 3\n",
      "2 3 9\n",
      "2 4 17\n",
      "2 5 27\n",
      "3 6 45\n",
      "3 7 66\n",
      "3 8 90\n",
      "9 9 171\n"
     ]
    },
    {
     "data": {
      "text/plain": [
       "False"
      ]
     },
     "execution_count": 24,
     "metadata": {},
     "output_type": "execute_result"
    }
   ],
   "source": [
    "def valid_ISBN10(isbn):\n",
    "    \n",
    "    \n",
    "    if len(isbn) == 10:\n",
    "        \n",
    "        arr = 0\n",
    "        \n",
    "        for i,n in enumerate(isbn, start=1):\n",
    "            \n",
    "            if n.isdigit():\n",
    "                arr += i*int(n)\n",
    "                print(n,i, arr)\n",
    "            else:\n",
    "                arr += i*i\n",
    "                print(n,i, arr)\n",
    "                \n",
    "        if arr % 11 == 0:\n",
    "            return True\n",
    "        else:\n",
    "            return False\n",
    "\n",
    "    else:\n",
    "        return False\n",
    "                \n",
    "                \n",
    "                        \n",
    "                \n",
    "valid_ISBN10('1112223339')"
   ]
  },
  {
   "cell_type": "code",
   "execution_count": 110,
   "metadata": {},
   "outputs": [
    {
     "data": {
      "text/plain": [
       "9"
      ]
     },
     "execution_count": 110,
     "metadata": {},
     "output_type": "execute_result"
    }
   ],
   "source": [
    "def nine(*f):\n",
    "    if f:\n",
    "\n",
    "        f, = f\n",
    "        if f[0] == 1:\n",
    "            return 9 + f[1]\n",
    "        elif f[0] == 2:\n",
    "            return 9 - f[1]\n",
    "        elif f[0] == 3:\n",
    "            return 9 * f[1]\n",
    "        elif f[0] == 4:\n",
    "            return 9 // f[1]\n",
    "\n",
    "    else:\n",
    "        return 9\n",
    "\n",
    "def plus(f):\n",
    "    return 1,f\n",
    "\n",
    "nine()\n"
   ]
  },
  {
   "cell_type": "code",
   "execution_count": null,
   "metadata": {},
   "outputs": [],
   "source": []
  }
 ],
 "metadata": {
  "kernelspec": {
   "display_name": "Python_Alejandro_Martinez-YSsPG-wX",
   "language": "python",
   "name": "python3"
  },
  "language_info": {
   "codemirror_mode": {
    "name": "ipython",
    "version": 3
   },
   "file_extension": ".py",
   "mimetype": "text/x-python",
   "name": "python",
   "nbconvert_exporter": "python",
   "pygments_lexer": "ipython3",
   "version": "3.11.4"
  },
  "orig_nbformat": 4
 },
 "nbformat": 4,
 "nbformat_minor": 2
}
