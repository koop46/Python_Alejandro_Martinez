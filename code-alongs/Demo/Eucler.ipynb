{
 "cells": [
  {
   "cell_type": "code",
   "execution_count": 9,
   "metadata": {},
   "outputs": [
    {
     "name": "stdout",
     "output_type": "stream",
     "text": [
      "233168\n"
     ]
    }
   ],
   "source": [
    "# Challenge 1\n",
    "\n",
    "nr = 1000\n",
    "\n",
    "s = 0\n",
    "\n",
    "for n in range(1,nr):\n",
    "    if n % 3 == 0 or n % 5 == 0:\n",
    "        s += n\n",
    "\n",
    "print(s)\n"
   ]
  },
  {
   "cell_type": "code",
   "execution_count": 44,
   "metadata": {},
   "outputs": [
    {
     "name": "stdout",
     "output_type": "stream",
     "text": [
      "2 3\n",
      "3 6\n",
      "4 9\n",
      "5 12\n",
      "6 15\n",
      "7 18\n",
      "8 21\n",
      "9 24\n",
      "10 27\n"
     ]
    }
   ],
   "source": [
    "# Challenge 2\n",
    "\n",
    "nr = 10\n",
    "sums_ = 0\n",
    "\n",
    "\n",
    "nr = [n for n in range(1, nr+1)]\n",
    "\n",
    "s_l = []\n",
    "\n",
    "for idx, n in enumerate(nr[1:]):\n",
    "    print( n, (n-1) + (n-2) + n)\n",
    "\n",
    "\n"
   ]
  },
  {
   "cell_type": "code",
   "execution_count": null,
   "metadata": {},
   "outputs": [],
   "source": []
  }
 ],
 "metadata": {
  "kernelspec": {
   "display_name": "Python 3",
   "language": "python",
   "name": "python3"
  },
  "language_info": {
   "codemirror_mode": {
    "name": "ipython",
    "version": 3
   },
   "file_extension": ".py",
   "mimetype": "text/x-python",
   "name": "python",
   "nbconvert_exporter": "python",
   "pygments_lexer": "ipython3",
   "version": "3.11.5"
  },
  "orig_nbformat": 4
 },
 "nbformat": 4,
 "nbformat_minor": 2
}
