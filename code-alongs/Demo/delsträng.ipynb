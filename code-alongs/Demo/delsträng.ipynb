{
 "cells": [
  {
   "cell_type": "code",
   "execution_count": 44,
   "metadata": {},
   "outputs": [
    {
     "name": "stdout",
     "output_type": "stream",
     "text": [
      "['2953512', '29535123p4872', '29535123p4872348759764572']\n",
      "['9535123p4872348759']\n",
      "['535', '535123p487234875', '535123p48723487597645', '535123p48723487597645723645']\n",
      "['35123', '35123p48723', '35123p48723487597645723']\n",
      "['5123p487234875', '5123p48723487597645', '5123p48723487597645723645']\n",
      "[]\n",
      "['23p4872', '23p4872348759764572']\n",
      "['3p48723', '3p48723487597645723']\n",
      "[]\n",
      "['487234', '4872348759764', '4872348759764572364']\n",
      "['872348']\n",
      "['723487', '723487597', '7234875976457']\n",
      "['2348759764572']\n",
      "['3487597645723']\n",
      "['48759764', '48759764572364']\n",
      "[]\n",
      "['7597', '75976457']\n",
      "['597645', '597645723645']\n",
      "[]\n",
      "['76457']\n",
      "['6457236']\n",
      "['4572364']\n",
      "['5723645']\n",
      "[]\n",
      "[]\n",
      "[]\n",
      "[]\n",
      "[]\n",
      "[]\n"
     ]
    }
   ],
   "source": [
    "from colorama import Fore, Back, Style\n",
    "\n",
    "\n",
    "string = \"29535123p48723487597645723645\"\n",
    "\n",
    "\n",
    "alla_delstrangar = []\n",
    "\n",
    "for i, c in enumerate(string):\n",
    "\n",
    "    delstrangar = []\n",
    "    for ii, cc in enumerate(string):\n",
    "        if c == cc and i != ii and len(string[i:ii+1]):\n",
    "            delstrangar.append(string[i:ii+1])\n",
    "\n",
    "    print(delstrangar)            \n",
    "\n",
    "\n",
    "\n"
   ]
  },
  {
   "cell_type": "code",
   "execution_count": null,
   "metadata": {},
   "outputs": [],
   "source": []
  }
 ],
 "metadata": {
  "kernelspec": {
   "display_name": "Python 3",
   "language": "python",
   "name": "python3"
  },
  "language_info": {
   "codemirror_mode": {
    "name": "ipython",
    "version": 3
   },
   "file_extension": ".py",
   "mimetype": "text/x-python",
   "name": "python",
   "nbconvert_exporter": "python",
   "pygments_lexer": "ipython3",
   "version": "3.11.5"
  },
  "orig_nbformat": 4
 },
 "nbformat": 4,
 "nbformat_minor": 2
}
