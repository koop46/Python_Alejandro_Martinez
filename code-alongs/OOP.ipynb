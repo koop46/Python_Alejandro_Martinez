{
 "cells": [
  {
   "cell_type": "markdown",
   "metadata": {},
   "source": [
    "### imperative: fokus på process\n",
    "### declarative: logic och concept\n",
    "\n",
    "regelstyrt vs målstyrt\n"
   ]
  },
  {
   "cell_type": "markdown",
   "metadata": {},
   "source": [
    "### Object oriented programming (OOP)\n",
    "\n",
    "- A class = blueprint for objects\n",
    "- Instance = actual object containing data and methods\n",
    "- Methods = class functions\n",
    "- Attributes = shared variables\n",
    "\n"
   ]
  },
  {
   "cell_type": "code",
   "execution_count": 41,
   "metadata": {},
   "outputs": [
    {
     "name": "stdout",
     "output_type": "stream",
     "text": [
      "Ale Mar\n",
      "J Nef\n"
     ]
    }
   ],
   "source": [
    "students_a = { \"first_name\": \"Ale\", \"last_name\": \"Mar\", \"age\": 88, \"grade\": 4.3}\n",
    "students_b = {\"first_name\": \"J\", \"last_name\": \"Nef\", \"age\": 89, \"grade\": 3.4 }\n",
    "\n",
    "students = [students_a, students_b]\n",
    "\n",
    "\n",
    "\n",
    "def get_name(student):\n",
    "    return f'{student[\"first_name\"]} {student[\"last_name\"]}'\n",
    "\n",
    "def set_grade(student, grade):\n",
    "\n",
    "    student['grade'] = grade\n",
    "\n",
    "\n",
    "for student in students:\n",
    "    set_grade(student, 4.5)\n",
    "    print(get_name(student))\n",
    "\n",
    "\n",
    "\n",
    " "
   ]
  },
  {
   "cell_type": "code",
   "execution_count": 14,
   "metadata": {},
   "outputs": [
    {
     "name": "stdout",
     "output_type": "stream",
     "text": [
      "Sho Mr.Mohamed\n"
     ]
    }
   ],
   "source": [
    "class Student: #objektet, klass\n",
    "    def __init__(self, grade, lastname):\n",
    "        self.grade = grade #attribut\n",
    "        self.lastname = lastname\n",
    "\n",
    "\n",
    "    def set_grade(self, grade): #metod (funktion)\n",
    "\n",
    "        self.grade = grade\n",
    "\n",
    "    def greet(self, broder):\n",
    "        print(f\"Sho Mr.{broder.lastname}\")\n",
    "\n",
    "\n",
    "ridde = Student(\"A\", \"Mohamed\") #instantiering: skapar objekt\n",
    "ale = Student(\"B\", \"Martinez\")\n",
    "\n",
    "\n",
    "ale.greet(ridde) #callar objektmetod\n",
    "\n",
    "#print(rithwan.set_grade(\"A+\"))\n",
    "#print(rithwan.grade)\n"
   ]
  },
  {
   "cell_type": "code",
   "execution_count": 40,
   "metadata": {},
   "outputs": [
    {
     "ename": "NameError",
     "evalue": "name 'Student' is not defined",
     "output_type": "error",
     "traceback": [
      "\u001b[1;31m---------------------------------------------------------------------------\u001b[0m",
      "\u001b[1;31mNameError\u001b[0m                                 Traceback (most recent call last)",
      "\u001b[1;32mc:\\Users\\hemli\\OneDrive\\Dokument\\GitHub\\Skola\\Python_Alejandro_Martinez\\code-alongs\\OOP.ipynb Cell 5\u001b[0m line \u001b[0;36m1\n\u001b[1;32m----> <a href='vscode-notebook-cell:/c%3A/Users/hemli/OneDrive/Dokument/GitHub/Skola/Python_Alejandro_Martinez/code-alongs/OOP.ipynb#W4sZmlsZQ%3D%3D?line=0'>1</a>\u001b[0m student \u001b[39m=\u001b[39m Student()\n\u001b[0;32m      <a href='vscode-notebook-cell:/c%3A/Users/hemli/OneDrive/Dokument/GitHub/Skola/Python_Alejandro_Martinez/code-alongs/OOP.ipynb#W4sZmlsZQ%3D%3D?line=2'>3</a>\u001b[0m \u001b[39mprint\u001b[39m(student\u001b[39m.\u001b[39m\u001b[39m__dict__\u001b[39m)\n\u001b[0;32m      <a href='vscode-notebook-cell:/c%3A/Users/hemli/OneDrive/Dokument/GitHub/Skola/Python_Alejandro_Martinez/code-alongs/OOP.ipynb#W4sZmlsZQ%3D%3D?line=4'>5</a>\u001b[0m student\u001b[39m.\u001b[39mset_grade(\u001b[39m4.7\u001b[39m)\n",
      "\u001b[1;31mNameError\u001b[0m: name 'Student' is not defined"
     ]
    }
   ],
   "source": [
    "student = Student()\n",
    "\n",
    "print(student.__dict__)\n",
    "\n",
    "student.set_grade(4.7)\n",
    "\n",
    "print()\n",
    "\n",
    "print(student.__dict__)\n",
    "\n",
    "\n",
    "\n"
   ]
  },
  {
   "cell_type": "code",
   "execution_count": 26,
   "metadata": {},
   "outputs": [
    {
     "name": "stdout",
     "output_type": "stream",
     "text": [
      "Cuitlawa\n",
      "Mama\n",
      "{'name': 'Cuitlawa', 'age': 42}\n"
     ]
    }
   ],
   "source": [
    "student_a = Student()\n",
    "student_b = Student()\n",
    "\n",
    "\n",
    "student_a.name = \"Cuitlawa\"\n",
    "student_a.age = 42\n",
    "student_b.name = \"Mama\"\n",
    "\n",
    "\n",
    "print(student_a.name)\n",
    "print(student_b.name)\n",
    "print(student_a.__dict__)\n",
    "\n",
    "\n",
    "\n",
    "\n"
   ]
  },
  {
   "cell_type": "code",
   "execution_count": 37,
   "metadata": {},
   "outputs": [],
   "source": [
    "\n",
    "class Kitty:\n",
    "    \n",
    "    def __init__(self, name, age):\n",
    "        self.name = name #Attribute\n",
    "        self.age = age\n",
    "        self.best_friend = None\n",
    "\n",
    "\n",
    "    def greet(self, other_cat = None): #Method\n",
    "\n",
    "        if other_cat is None:\n",
    "            print(f\"Hello, I'm {self.name} and I'm {self.age} years old\")\n",
    "        else:\n",
    "            self.greet_other(other_cat)\n",
    "\n",
    "\n",
    "    def greet_other(self, other_cat = None):\n",
    "\n",
    "        print(f\"Hi {other_cat.name}, my name is {self.name}, \", end=\"\")\n",
    "\n",
    "        if other_cat.age < self.age:\n",
    "            print(f\"and I'm {self.age - other_cat.age} years older than you\")\n",
    "        elif other_cat.age > self.age:\n",
    "            print(f\"and I'm {other_cat.age - self.age} years younger than you\")\n",
    "        else:\n",
    "            print(f\"and we're both {self.age} years old\")\n",
    "\n",
    "\n",
    "    def print_best_friend(self):\n",
    "\n",
    "        if not hasattr(self, \"best_friend\"): return\n",
    "        if self.best_friend is None: print(f\"My name is {self.name} and I'm my best friend!\")\n",
    "            \n",
    "        else:print(f\"My name is {self.name} and my best friend is {self.best_friend.name} \")\n",
    "\n",
    "\n"
   ]
  },
  {
   "cell_type": "code",
   "execution_count": 38,
   "metadata": {},
   "outputs": [
    {
     "name": "stdout",
     "output_type": "stream",
     "text": [
      "Hello, I'm Missy and I'm 3 years old\n",
      "Hello, I'm Kisse and I'm 2 years old\n",
      "Hi Missy, my name is Mijaoo, and I'm 1 years older than you\n",
      "\n",
      "Hello, I'm Missy and I'm 3 years old\n",
      "Hello, I'm Kisse and I'm 2 years old\n",
      "Hello, I'm Mijaoo and I'm 4 years old\n",
      "\n",
      "My name is Missy and my best friend is Mijaoo \n",
      "My name is Kisse and I'm my best friend!\n",
      "My name is Mijaoo and my best friend is Missy \n",
      "\n",
      "Hi Kisse, my name is Kisse, and we're both 2 years old\n",
      "Hi Mijaoo, my name is Mijaoo, and we're both 4 years old\n"
     ]
    }
   ],
   "source": [
    "cats = []\n",
    "\n",
    "cats.append(Kitty(\"Missy\", 3))\n",
    "cats.append(Kitty(\"Kisse\", 2))\n",
    "cats.append(Kitty(\"Mijaoo\", 4))\n",
    "\n",
    "\n",
    "cats[0].greet()\n",
    "cats[1].greet()\n",
    "cats[2].greet(cats[0])\n",
    "\n",
    "\n",
    "cats[0].best_friend = cats[2]\n",
    "cats[2].best_friend = cats[0]\n",
    "cats[1].best_friend = None\n",
    "\n",
    "print()\n",
    "for cat in cats:\n",
    "    cat.greet()\n",
    "\n",
    "print()\n",
    "for cat in cats:\n",
    "    cat.print_best_friend()\n",
    "\n",
    "print()\n",
    "for cat in cats[1:]:\n",
    "    cat.greet(cat)"
   ]
  },
  {
   "cell_type": "code",
   "execution_count": 10,
   "metadata": {},
   "outputs": [
    {
     "name": "stdout",
     "output_type": "stream",
     "text": [
      "Hello, I'm Missy and I'm 3 years old\n",
      "Hello, I'm Kisse and I'm 2 years old\n",
      "Hi Missy, my name is Mijaoo, and I'm 1 years older than you\n",
      "\n"
     ]
    },
    {
     "ename": "TypeError",
     "evalue": "'NoneType' object is not callable",
     "output_type": "error",
     "traceback": [
      "\u001b[1;31m---------------------------------------------------------------------------\u001b[0m",
      "\u001b[1;31mTypeError\u001b[0m                                 Traceback (most recent call last)",
      "\u001b[1;32mc:\\Users\\hemli\\OneDrive\\Dokument\\GitHub\\Skola\\Python_Alejandro_Martinez\\code-alongs\\OOP.ipynb Cell 9\u001b[0m line \u001b[0;36m1\n\u001b[0;32m     <a href='vscode-notebook-cell:/c%3A/Users/hemli/OneDrive/Dokument/GitHub/Skola/Python_Alejandro_Martinez/code-alongs/OOP.ipynb#X11sZmlsZQ%3D%3D?line=16'>17</a>\u001b[0m \u001b[39mprint\u001b[39m()\n\u001b[0;32m     <a href='vscode-notebook-cell:/c%3A/Users/hemli/OneDrive/Dokument/GitHub/Skola/Python_Alejandro_Martinez/code-alongs/OOP.ipynb#X11sZmlsZQ%3D%3D?line=17'>18</a>\u001b[0m \u001b[39mfor\u001b[39;00m cat \u001b[39min\u001b[39;00m cats:\n\u001b[1;32m---> <a href='vscode-notebook-cell:/c%3A/Users/hemli/OneDrive/Dokument/GitHub/Skola/Python_Alejandro_Martinez/code-alongs/OOP.ipynb#X11sZmlsZQ%3D%3D?line=18'>19</a>\u001b[0m     cat\u001b[39m.\u001b[39;49mprint_best_friend()\n",
      "\u001b[1;31mTypeError\u001b[0m: 'NoneType' object is not callable"
     ]
    }
   ],
   "source": [
    "katt1 = Kitty(\"Missy\", 3)\n",
    "katt2 = Kitty(\"Kisse\", 2)\n",
    "katt3 = Kitty(\"Mijaoo\", 4)\n",
    "\n",
    "\n",
    "katt1.greet()\n",
    "katt2.greet()\n",
    "katt3.greet(katt1)\n",
    "\n",
    "\n",
    "cats = [katt1, katt2, katt3]\n",
    "\n",
    "katt1.best_friend = katt3\n",
    "katt3.best_friend = katt1\n",
    "katt2.best_friend = katt2\n",
    "\n",
    "print()\n",
    "for cat in cats:\n",
    "    cat.print_best_friend()\n"
   ]
  },
  {
   "cell_type": "code",
   "execution_count": 46,
   "metadata": {},
   "outputs": [
    {
     "data": {
      "text/plain": [
       "'Chepe'"
      ]
     },
     "execution_count": 46,
     "metadata": {},
     "output_type": "execute_result"
    }
   ],
   "source": [
    "student = Student(\"Alejandro\", 4.8)\n",
    "\n",
    "student.pet = Kitty(\"Chepe\", 6)\n",
    "\n",
    "\n",
    "student.pet.name\n"
   ]
  },
  {
   "cell_type": "code",
   "execution_count": null,
   "metadata": {},
   "outputs": [],
   "source": []
  }
 ],
 "metadata": {
  "kernelspec": {
   "display_name": "Python 3",
   "language": "python",
   "name": "python3"
  },
  "language_info": {
   "codemirror_mode": {
    "name": "ipython",
    "version": 3
   },
   "file_extension": ".py",
   "mimetype": "text/x-python",
   "name": "python",
   "nbconvert_exporter": "python",
   "pygments_lexer": "ipython3",
   "version": "3.11.5"
  },
  "orig_nbformat": 4
 },
 "nbformat": 4,
 "nbformat_minor": 2
}
