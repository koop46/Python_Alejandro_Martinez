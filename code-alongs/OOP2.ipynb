{
 "cells": [
  {
   "cell_type": "markdown",
   "metadata": {},
   "source": [
    "#self_.salary <--- privat variable\n",
    "får bara ändras innan för klassen\n",
    "\n"
   ]
  },
  {
   "cell_type": "code",
   "execution_count": 5,
   "metadata": {},
   "outputs": [],
   "source": [
    "class Employee:\n",
    "\n",
    "# Type hint:\n",
    "#    def __init_subclass__(cls: str) -> str:\n",
    "# cls är string och funktionen returnar string\n",
    "\n",
    "    def __init__(self, name, salary):\n",
    "        self.name = name\n",
    "        self.salary = salary\n",
    "\n",
    "    @property\n",
    "    def salary(self):\n",
    "        return self._salary\n",
    "\n",
    "    @salary.setter\n",
    "    def salary(self, salary):\n",
    "        self._salary = 0 if salary < 0 else salary\n",
    "\n"
   ]
  },
  {
   "cell_type": "code",
   "execution_count": 6,
   "metadata": {},
   "outputs": [
    {
     "name": "stdout",
     "output_type": "stream",
     "text": [
      "300\n"
     ]
    }
   ],
   "source": [
    "employee = Employee(\"Tapepe\", 45000)\n",
    "employee2 = Employee(\"Mulango\", -35000)\n",
    "\n",
    "\n",
    "\n",
    "employee.salary = 300\n",
    "\n",
    "\n",
    "print(employee.salary)\n",
    "\n",
    "#employee.set_salary = 50000\n",
    "#employee2.set_salary = -10000\n",
    "\n",
    "#print(employee.get_salary())\n",
    "#print(employee2.get_salary())\n",
    "\n"
   ]
  },
  {
   "cell_type": "code",
   "execution_count": 12,
   "metadata": {},
   "outputs": [
    {
     "name": "stdout",
     "output_type": "stream",
     "text": [
      "11\n"
     ]
    }
   ],
   "source": [
    "class Person:\n",
    "\n",
    "    def __init__(self, firstname, lastname, age):\n",
    "        self.firstname = firstname\n",
    "        self.lastname = lastname\n",
    "        self.age = age\n",
    "\n",
    "\n",
    "    @property #förklarar att det är getter metod o key property\n",
    "    def lastname(self):\n",
    "        return self._lastname\n",
    "\n",
    "    @lastname.setter\n",
    "    def lastname(self, name):\n",
    "        self._lastname = name\n",
    "\n",
    "\n",
    "    @property\n",
    "    def age(self):\n",
    "        return self._age\n",
    "    \n",
    "    @age.setter\n",
    "    def age(self, age):\n",
    "        self._age = 69 if age < 0 else 66 if age > 100 else age\n",
    "\n",
    "\n",
    "\n",
    "\n",
    "person = Person(\"Alejandro\", \"Martinez\", -67)\n",
    "\n",
    "\n",
    "#name = person.firstname\n",
    "#print(name)\n",
    "#person.firstname = \"Quahotemoc\"\n",
    "\n",
    "#name = person.lastname\n",
    "#print(name)\n",
    "#person.lastname = \"Lenka\"\n",
    "\n",
    "#person.age = -2\n",
    "print(person.age)\n",
    "\n",
    "#print(person.firstname, person.lastname)\n"
   ]
  },
  {
   "cell_type": "code",
   "execution_count": 12,
   "metadata": {},
   "outputs": [
    {
     "data": {
      "text/plain": [
       "'PelleMåns'"
      ]
     },
     "execution_count": 12,
     "metadata": {},
     "output_type": "execute_result"
    }
   ],
   "source": [
    "class Cat:\n",
    "    def __init__(self, name, age):\n",
    "        self.name = name\n",
    "        self.age = age\n",
    "    \n",
    "    def __add__(self, other):\n",
    "\n",
    "        return self.name + other.name\n",
    "    \n",
    "cat_a = Cat(\"Pelle\", 3)\n",
    "cat_b = Cat(\"Måns\", 5)\n",
    "\n",
    "cat_a + cat_b\n",
    "    "
   ]
  },
  {
   "cell_type": "code",
   "execution_count": null,
   "metadata": {},
   "outputs": [],
   "source": []
  }
 ],
 "metadata": {
  "kernelspec": {
   "display_name": "Python 3",
   "language": "python",
   "name": "python3"
  },
  "language_info": {
   "codemirror_mode": {
    "name": "ipython",
    "version": 3
   },
   "file_extension": ".py",
   "mimetype": "text/x-python",
   "name": "python",
   "nbconvert_exporter": "python",
   "pygments_lexer": "ipython3",
   "version": "3.11.6"
  },
  "orig_nbformat": 4
 },
 "nbformat": 4,
 "nbformat_minor": 2
}
